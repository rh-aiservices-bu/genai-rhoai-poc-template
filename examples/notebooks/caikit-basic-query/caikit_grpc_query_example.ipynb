{
 "cells": [
  {
   "cell_type": "markdown",
   "id": "c49886eb-c7ba-4ed7-9d6b-75eed7cc645c",
   "metadata": {},
   "source": [
    "# gRPC Text Generation Inference with Caikit+TGIS Serving"
   ]
  },
  {
   "cell_type": "markdown",
   "id": "97902fbb-37ea-41b3-a0e2-31580b0e7f6c",
   "metadata": {
    "tags": []
   },
   "source": [
    "### Set the Inference server url (replace with your own address)"
   ]
  },
  {
   "cell_type": "code",
   "execution_count": 1,
   "id": "e16ab60c-8b97-4885-bcd0-df92b80ec779",
   "metadata": {
    "tags": []
   },
   "outputs": [],
   "source": [
    "!pip install -q caikit-nlp-client"
   ]
  },
  {
   "cell_type": "code",
   "execution_count": null,
   "id": "8a83a615-62f4-4fcf-924c-a9096a3d511c",
   "metadata": {
    "tags": []
   },
   "outputs": [],
   "source": [
    "host, port = \"localhost\", 8085 # replace with your own"
   ]
  },
  {
   "cell_type": "markdown",
   "id": "61811f49-2418-4b67-b011-c0466457b07b",
   "metadata": {
    "tags": []
   },
   "source": [
    "### Imports"
   ]
  },
  {
   "cell_type": "code",
   "execution_count": 2,
   "id": "9a8ecde2-daeb-493a-b7c9-f3ac52222fc4",
   "metadata": {},
   "outputs": [],
   "source": [
    "from caikit_nlp_client import GrpcClient"
   ]
  },
  {
   "cell_type": "markdown",
   "id": "aad51945-3e61-4cdb-8739-41d60f59eb7c",
   "metadata": {
    "tags": []
   },
   "source": [
    "### With a self-signed certificate\n",
    "\n",
    "Note: to extract the certificate chain, you can do the following in bash:\n",
    "```bash\n",
    "host=<your host>\n",
    "port=<your port>\n",
    "openssl s_client -showcerts -verify 5 -connect $host:$port < /dev/null |\n",
    "    awk '/BEGIN CERTIFICATE/,/END CERTIFICATE/{ if(/BEGIN CERTIFICATE/){a++}; out=\"cert\"a\".pem\"; print >out}'\n",
    "cat cert*.pem > bundle.pem\n",
    "```"
   ]
  },
  {
   "cell_type": "code",
   "execution_count": 4,
   "id": "48bdca32-2ac2-47c0-8c64-d95f06826f70",
   "metadata": {},
   "outputs": [],
   "source": [
    "with open('bundle.pem', 'rb') as f:\n",
    "    bundle = f.read()"
   ]
  },
  {
   "cell_type": "code",
   "execution_count": null,
   "id": "5d47f99f-a0ae-4d35-8add-f9b872790144",
   "metadata": {},
   "outputs": [],
   "source": [
    "# Note: certificate verification can be disabled in the GrpcClient using verify=False for development purposes"
   ]
  },
  {
   "cell_type": "markdown",
   "id": "463b84d2-4fd1-44ed-9f8b-11726a1408fe",
   "metadata": {},
   "source": [
    "### Query the service"
   ]
  },
  {
   "cell_type": "code",
   "execution_count": 5,
   "id": "5a62ab7a-5e54-4ec3-94d9-946b1058803c",
   "metadata": {},
   "outputs": [],
   "source": [
    "# instantiate the client\n",
    "client = GrpcClient(host, port, ca_cert=bundle) # replace ca_cert with verify=False to disable certificate verification"
   ]
  },
  {
   "cell_type": "code",
   "execution_count": 7,
   "id": "94758e12-1101-4030-b639-06b00d417b7a",
   "metadata": {
    "tags": []
   },
   "outputs": [
    {
     "name": "stdout",
     "output_type": "stream",
     "text": [
      "\n",
      "\n",
      "Baking a cake is a straightforward process that requires a few basic ingredients and some time in the oven. Here's a step-by-step guide on how to bake a cake:\n",
      "\n",
      "1. Preheat the oven: Preheat the oven to the temperature specified in the recipe you're using. This can range from 325°F to 375°F (160°C to 190°C), depending on the type of cake you're making.\n",
      "\n",
      "2. Prepare the cake pan: Choose a cake pan that's the right size for the recipe you're using. Grease the pan with butter or cooking spray to prevent the cake from sticking.\n",
      "\n",
      "3. Mix the ingredients: In a large mixing bowl, combine the dry ingredients (flour,\n"
     ]
    }
   ],
   "source": [
    "# Let's query the model!\n",
    "model = 'Llama-2-7b-chat-hf'\n",
    "generated_text = client.generate_text(\n",
    "    'How do you bake a cake?',\n",
    "    preserve_input_text=False,\n",
    "    max_new_tokens=200,\n",
    "    min_new_tokens=10,\n",
    ")\n",
    "print(generated_text)"
   ]
  },
  {
   "cell_type": "markdown",
   "id": "77a19369-cf45-4d1a-bd68-436569e5fcbf",
   "metadata": {},
   "source": [
    "### Query the service - Streaming answer"
   ]
  },
  {
   "cell_type": "code",
   "execution_count": 8,
   "id": "d3730013-1ffd-4a76-ad28-dbe5074c022c",
   "metadata": {},
   "outputs": [
    {
     "name": "stdout",
     "output_type": "stream",
     "text": [
      "\n",
      "\n",
      "Baking a cake is a straightforward process that requires a few basic ingredients and some time in the oven. Here's a step-by-step guide on how to bake a cake:\n",
      "\n",
      "1. Preheat the oven: Preheat the oven to the temperature specified in the recipe you're using. This can range from 325°F to 375°F (160°C to 190°C), depending on the type of cake you're making.\n",
      "\n",
      "2. Prepare the cake pan: Choose a cake pan that's the right size for the recipe you're using. Grease the pan with butter or cooking spray to prevent the cake from sticking.\n",
      "\n",
      "3. Mix the ingredients: In a large mixing bowl, combine the dry ingredients (flour,"
     ]
    }
   ],
   "source": [
    "# Let's get some streaming answers!\n",
    "for chunk in client.generate_text_stream(\n",
    "    'How do you bake a cake?',\n",
    "    preserve_input_text=False,\n",
    "    max_new_tokens=200,\n",
    "    min_new_tokens=10,\n",
    "):\n",
    "    print(chunk, end=\"\")"
   ]
  },
  {
   "cell_type": "markdown",
   "id": "d38d0c22-314f-4427-92f5-6624856c68be",
   "metadata": {
    "tags": []
   },
   "source": [
    "### To go further: service, methods and parameters discovery"
   ]
  },
  {
   "cell_type": "code",
   "execution_count": 9,
   "id": "2261df2e-f066-402c-a36a-62adbd5f893c",
   "metadata": {},
   "outputs": [
    {
     "name": "stdout",
     "output_type": "stream",
     "text": [
      "Available services: ['caikit.runtime.Nlp.NlpService', 'caikit.runtime.Nlp.NlpTrainingService', 'caikit.runtime.training.TrainingManagement', 'grpc.reflection.v1alpha.ServerReflection', 'mmesh.ModelRuntime']\n"
     ]
    }
   ],
   "source": [
    "# List available services\n",
    "services = client._reflection_db.get_services()\n",
    "print(f'Available services: {services}')"
   ]
  },
  {
   "cell_type": "code",
   "execution_count": 10,
   "id": "28880bd2-02d6-4a80-b822-c404e60e85c1",
   "metadata": {},
   "outputs": [
    {
     "name": "stdout",
     "output_type": "stream",
     "text": [
      "Available methods:\n",
      "TextClassificationTaskPredict\n",
      "TextGenerationTaskPredict\n",
      "ServerStreamingTextGenerationTaskPredict\n",
      "TokenizationTaskPredict\n",
      "TokenClassificationTaskPredict\n",
      "BidiStreamingTokenClassificationTaskPredict\n"
     ]
    }
   ],
   "source": [
    "# Selecting the NlpService, list available methods\n",
    "nlp_service = client._desc_pool.FindServiceByName('caikit.runtime.Nlp.NlpService')\n",
    "print('Available methods:')\n",
    "for m in nlp_service.methods:\n",
    "    print(m.name)"
   ]
  },
  {
   "cell_type": "code",
   "execution_count": 11,
   "id": "75d00db7-19f8-4270-84d8-b5f9cad93bbd",
   "metadata": {},
   "outputs": [
    {
     "data": {
      "text/plain": [
       "{'text': 'string',\n",
       " 'max_new_tokens': 'int64',\n",
       " 'min_new_tokens': 'int64',\n",
       " 'truncate_input_tokens': 'int64',\n",
       " 'decoding_method': 'string',\n",
       " 'top_k': 'int64',\n",
       " 'top_p': 'double',\n",
       " 'typical_p': 'double',\n",
       " 'temperature': 'double',\n",
       " 'seed': 'uint64',\n",
       " 'repetition_penalty': 'double',\n",
       " 'max_time': 'double',\n",
       " 'exponential_decay_length_penalty': {'start_index': 'int64',\n",
       "  'decay_factor': 'double'},\n",
       " 'stop_sequences': 'string',\n",
       " 'preserve_input_text': 'bool'}"
      ]
     },
     "execution_count": 7,
     "metadata": {},
     "output_type": "execute_result"
    }
   ],
   "source": [
    "client.get_text_generation_parameters()"
   ]
  },
  {
   "cell_type": "code",
   "execution_count": null,
   "id": "b59328bb-ab68-474e-915f-16e6eb40010e",
   "metadata": {},
   "outputs": [],
   "source": []
  }
 ],
 "metadata": {
  "kernelspec": {
   "display_name": "Python 3.11",
   "language": "python",
   "name": "python3"
  },
  "language_info": {
   "codemirror_mode": {
    "name": "ipython",
    "version": 3
   },
   "file_extension": ".py",
   "mimetype": "text/x-python",
   "name": "python",
   "nbconvert_exporter": "python",
   "pygments_lexer": "ipython3",
   "version": "3.11.4"
  }
 },
 "nbformat": 4,
 "nbformat_minor": 5
}
