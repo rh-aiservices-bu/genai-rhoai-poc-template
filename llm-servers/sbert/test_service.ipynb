{
 "cells": [
  {
   "cell_type": "code",
   "execution_count": null,
   "id": "2a272b4c-da90-47f7-9559-a959ec728704",
   "metadata": {
    "tags": []
   },
   "outputs": [],
   "source": [
    "import requests\n",
    "import urllib3\n",
    "urllib3.disable_warnings()\n",
    "\n",
    "API_URL = \"https://service-url\"\n",
    "\n",
    "def query(url, payload):\n",
    "    response = requests.post(url, json=payload, verify=False)\n",
    "    return response.json()\n",
    "\n",
    "test_strings = [\"That is a happy dog\",\"That is a very happy person\",\"Today is a sunny day\"]\n",
    "\n",
    "output = query(API_URL, {\"strings\": test_strings})\n",
    "\n",
    "print(output)"
   ]
  }
 ],
 "metadata": {
  "kernelspec": {
   "display_name": "Python 3.9",
   "language": "python",
   "name": "python3"
  },
  "language_info": {
   "codemirror_mode": {
    "name": "ipython",
    "version": 3
   },
   "file_extension": ".py",
   "mimetype": "text/x-python",
   "name": "python",
   "nbconvert_exporter": "python",
   "pygments_lexer": "ipython3",
   "version": "3.9.18"
  }
 },
 "nbformat": 4,
 "nbformat_minor": 5
}
